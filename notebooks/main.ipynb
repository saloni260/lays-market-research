{
 "cells": [
  {
   "cell_type": "code",
   "execution_count": null,
   "id": "010118f1",
   "metadata": {},
   "outputs": [],
   "source": [
    "%pip install beautifulsoup4 requests\n"
   ]
  },
  {
   "cell_type": "code",
   "execution_count": null,
   "id": "745ac7b0",
   "metadata": {},
   "outputs": [],
   "source": [
    "import requests\n",
    "from bs4 import BeautifulSoup\n",
    "import csv\n",
    "import time\n"
   ]
  },
  {
   "cell_type": "code",
   "execution_count": null,
   "id": "f78c4ab2",
   "metadata": {},
   "outputs": [],
   "source": [
    "def get_reviews(product_url, max_pages=3):\n",
    "    headers = {\n",
    "        \"User-Agent\": \"Mozilla/5.0\"\n",
    "    }\n",
    "    all_reviews = []\n",
    "\n",
    "    for page in range(1, max_pages + 1):\n",
    "        url = f\"{product_url}&page={page}\"\n",
    "        print(f\"Scraping: {url}\")\n",
    "        response = requests.get(url, headers=headers)\n",
    "\n",
    "        if response.status_code != 200:\n",
    "            print(\"Failed to fetch page\")\n",
    "            break\n",
    "\n",
    "        soup = BeautifulSoup(response.text, 'html.parser')\n",
    "        reviews = soup.find_all(\"div\", {\"class\": \"_6K-7Co\"})\n",
    "\n",
    "        for review in reviews:\n",
    "            text = review.get_text(strip=True)\n",
    "            all_reviews.append(text)\n",
    "\n",
    "        time.sleep(2)  # polite delay\n",
    "\n",
    "    return all_reviews\n"
   ]
  },
  {
   "cell_type": "code",
   "execution_count": null,
   "id": "cc19cef3",
   "metadata": {},
   "outputs": [],
   "source": [
    "import pandas as pd\n",
    "\n",
    "def save_reviews_to_csv(reviews, path):\n",
    "    df = pd.DataFrame(reviews, columns=[\"Review\"])\n",
    "    df.to_csv(path, index=False)\n",
    "    print(f\"Saved {len(reviews)} reviews to {path}\")\n"
   ]
  },
  {
   "cell_type": "code",
   "execution_count": 28,
   "id": "ee9da9ac",
   "metadata": {},
   "outputs": [
    {
     "name": "stdout",
     "output_type": "stream",
     "text": [
      "Saved 30 sample reviews to ../data/lays_reviews.csv\n"
     ]
    }
   ],
   "source": [
    "import pandas as pd\n",
    "\n",
    "sample_reviews = [\n",
    "    \"Absolutely love the Magic Masala flavor! So addictive!\",\n",
    "    \"Too salty for my taste, but still crunchy and fresh.\",\n",
    "    \"Lay’s has nailed it again. This is my go-to snack.\",\n",
    "    \"I didn’t like the aftertaste. Feels artificial.\",\n",
    "    \"Perfect for movie nights. My whole family loves it.\",\n",
    "    \"Tastes stale. Packaging could be better.\",\n",
    "    \"Amazing flavor combo! Spicy, tangy, and crunchy.\",\n",
    "    \"Bit expensive for the quantity offered.\",\n",
    "    \"Always fresh and crispy. Never disappointed.\",\n",
    "    \"I find it too oily compared to other chips.\",\n",
    "    \"The masala mix is spot on. Loved it!\",\n",
    "    \"Not as good as the classic salted ones.\",\n",
    "    \"Great with a cold drink. Party essential.\",\n",
    "    \"Not spicy enough for Indian taste buds.\",\n",
    "    \"My kids love it. We always keep a pack at home.\",\n",
    "    \"Overpriced and underwhelming.\",\n",
    "    \"Tastes just like street-style chaat!\",\n",
    "    \"Very tasty, but wish there was a bigger pack.\",\n",
    "    \"Flavor bursts in every bite!\",\n",
    "    \"I found it very average. Nothing special.\",\n",
    "    \"Better than Bingo or Uncle Chips in my opinion.\",\n",
    "    \"Texture was off. Felt like old stock.\",\n",
    "    \"So good! I can finish the whole pack in one go.\",\n",
    "    \"Tasted burnt. Bad batch maybe?\",\n",
    "    \"I liked it, but not my favorite Lay’s variant.\",\n",
    "    \"Always fresh and full of flavor.\",\n",
    "    \"Great snack for work breaks.\",\n",
    "    \"Flavor is inconsistent between batches.\",\n",
    "    \"I’m hooked. Buying it every week now.\",\n",
    "    \"Decent chips, but packaging needs improvement.\"\n",
    "]\n",
    "\n",
    "df = pd.DataFrame(sample_reviews, columns=[\"Review\"])\n",
    "df.to_csv(\"../data/lays_reviews.csv\", index=False)\n",
    "print(f\"Saved {len(df)} sample reviews to ../data/lays_reviews.csv\")\n"
   ]
  },
  {
   "cell_type": "code",
   "execution_count": 27,
   "id": "08277a68",
   "metadata": {},
   "outputs": [],
   "source": [
    "import os\n",
    "\n",
    "# Create the data folder\n",
    "os.makedirs(\"../data\", exist_ok=True)\n"
   ]
  },
  {
   "cell_type": "code",
   "execution_count": null,
   "id": "489287fc",
   "metadata": {},
   "outputs": [],
   "source": [
    "%pip install textblob\n"
   ]
  },
  {
   "cell_type": "code",
   "execution_count": 26,
   "id": "c2823847",
   "metadata": {},
   "outputs": [
    {
     "data": {
      "text/html": [
       "<div>\n",
       "<style scoped>\n",
       "    .dataframe tbody tr th:only-of-type {\n",
       "        vertical-align: middle;\n",
       "    }\n",
       "\n",
       "    .dataframe tbody tr th {\n",
       "        vertical-align: top;\n",
       "    }\n",
       "\n",
       "    .dataframe thead th {\n",
       "        text-align: right;\n",
       "    }\n",
       "</style>\n",
       "<table border=\"1\" class=\"dataframe\">\n",
       "  <thead>\n",
       "    <tr style=\"text-align: right;\">\n",
       "      <th></th>\n",
       "      <th>Review</th>\n",
       "      <th>Polarity</th>\n",
       "      <th>Sentiment</th>\n",
       "    </tr>\n",
       "  </thead>\n",
       "  <tbody>\n",
       "    <tr>\n",
       "      <th>0</th>\n",
       "      <td>Absolutely love the Magic Masala flavor! So ad...</td>\n",
       "      <td>0.3750</td>\n",
       "      <td>Positive</td>\n",
       "    </tr>\n",
       "    <tr>\n",
       "      <th>1</th>\n",
       "      <td>Too salty for my taste, but still crunchy and ...</td>\n",
       "      <td>0.3000</td>\n",
       "      <td>Positive</td>\n",
       "    </tr>\n",
       "    <tr>\n",
       "      <th>2</th>\n",
       "      <td>Lay’s has nailed it again. This is my go-to sn...</td>\n",
       "      <td>0.0000</td>\n",
       "      <td>Neutral</td>\n",
       "    </tr>\n",
       "    <tr>\n",
       "      <th>3</th>\n",
       "      <td>I didn’t like the aftertaste. Feels artificial.</td>\n",
       "      <td>-0.6000</td>\n",
       "      <td>Negative</td>\n",
       "    </tr>\n",
       "    <tr>\n",
       "      <th>4</th>\n",
       "      <td>Perfect for movie nights. My whole family love...</td>\n",
       "      <td>0.6000</td>\n",
       "      <td>Positive</td>\n",
       "    </tr>\n",
       "    <tr>\n",
       "      <th>5</th>\n",
       "      <td>Tastes stale. Packaging could be better.</td>\n",
       "      <td>0.0000</td>\n",
       "      <td>Neutral</td>\n",
       "    </tr>\n",
       "    <tr>\n",
       "      <th>6</th>\n",
       "      <td>Amazing flavor combo! Spicy, tangy, and crunchy.</td>\n",
       "      <td>0.7500</td>\n",
       "      <td>Positive</td>\n",
       "    </tr>\n",
       "    <tr>\n",
       "      <th>7</th>\n",
       "      <td>Bit expensive for the quantity offered.</td>\n",
       "      <td>-0.5000</td>\n",
       "      <td>Negative</td>\n",
       "    </tr>\n",
       "    <tr>\n",
       "      <th>8</th>\n",
       "      <td>Always fresh and crispy. Never disappointed.</td>\n",
       "      <td>0.3375</td>\n",
       "      <td>Positive</td>\n",
       "    </tr>\n",
       "    <tr>\n",
       "      <th>9</th>\n",
       "      <td>I find it too oily compared to other chips.</td>\n",
       "      <td>-0.1250</td>\n",
       "      <td>Negative</td>\n",
       "    </tr>\n",
       "  </tbody>\n",
       "</table>\n",
       "</div>"
      ],
      "text/plain": [
       "                                              Review  Polarity Sentiment\n",
       "0  Absolutely love the Magic Masala flavor! So ad...    0.3750  Positive\n",
       "1  Too salty for my taste, but still crunchy and ...    0.3000  Positive\n",
       "2  Lay’s has nailed it again. This is my go-to sn...    0.0000   Neutral\n",
       "3    I didn’t like the aftertaste. Feels artificial.   -0.6000  Negative\n",
       "4  Perfect for movie nights. My whole family love...    0.6000  Positive\n",
       "5           Tastes stale. Packaging could be better.    0.0000   Neutral\n",
       "6   Amazing flavor combo! Spicy, tangy, and crunchy.    0.7500  Positive\n",
       "7            Bit expensive for the quantity offered.   -0.5000  Negative\n",
       "8       Always fresh and crispy. Never disappointed.    0.3375  Positive\n",
       "9        I find it too oily compared to other chips.   -0.1250  Negative"
      ]
     },
     "execution_count": 26,
     "metadata": {},
     "output_type": "execute_result"
    }
   ],
   "source": [
    "import pandas as pd\n",
    "from textblob import TextBlob\n",
    "\n",
    "# Load reviews\n",
    "df = pd.read_csv(\"../data/lays_reviews.csv\")\n",
    "\n",
    "# Add sentiment columns\n",
    "def get_sentiment(text):\n",
    "    analysis = TextBlob(text)\n",
    "    return analysis.sentiment.polarity\n",
    "\n",
    "df['Polarity'] = df['Review'].apply(get_sentiment)\n",
    "df['Sentiment'] = df['Polarity'].apply(lambda x: 'Positive' if x > 0 else ('Negative' if x < 0 else 'Neutral'))\n",
    "\n",
    "df.head(10)\n"
   ]
  },
  {
   "cell_type": "code",
   "execution_count": 25,
   "id": "a93b482a",
   "metadata": {},
   "outputs": [
    {
     "data": {
      "text/html": [
       "<div>\n",
       "<style scoped>\n",
       "    .dataframe tbody tr th:only-of-type {\n",
       "        vertical-align: middle;\n",
       "    }\n",
       "\n",
       "    .dataframe tbody tr th {\n",
       "        vertical-align: top;\n",
       "    }\n",
       "\n",
       "    .dataframe thead th {\n",
       "        text-align: right;\n",
       "    }\n",
       "</style>\n",
       "<table border=\"1\" class=\"dataframe\">\n",
       "  <thead>\n",
       "    <tr style=\"text-align: right;\">\n",
       "      <th></th>\n",
       "      <th>Review</th>\n",
       "    </tr>\n",
       "  </thead>\n",
       "  <tbody>\n",
       "    <tr>\n",
       "      <th>0</th>\n",
       "      <td>Absolutely love the Magic Masala flavor! So ad...</td>\n",
       "    </tr>\n",
       "    <tr>\n",
       "      <th>1</th>\n",
       "      <td>Too salty for my taste, but still crunchy and ...</td>\n",
       "    </tr>\n",
       "    <tr>\n",
       "      <th>2</th>\n",
       "      <td>Lay’s has nailed it again. This is my go-to sn...</td>\n",
       "    </tr>\n",
       "    <tr>\n",
       "      <th>3</th>\n",
       "      <td>I didn’t like the aftertaste. Feels artificial.</td>\n",
       "    </tr>\n",
       "    <tr>\n",
       "      <th>4</th>\n",
       "      <td>Perfect for movie nights. My whole family love...</td>\n",
       "    </tr>\n",
       "  </tbody>\n",
       "</table>\n",
       "</div>"
      ],
      "text/plain": [
       "                                              Review\n",
       "0  Absolutely love the Magic Masala flavor! So ad...\n",
       "1  Too salty for my taste, but still crunchy and ...\n",
       "2  Lay’s has nailed it again. This is my go-to sn...\n",
       "3    I didn’t like the aftertaste. Feels artificial.\n",
       "4  Perfect for movie nights. My whole family love..."
      ]
     },
     "execution_count": 25,
     "metadata": {},
     "output_type": "execute_result"
    }
   ],
   "source": [
    "import pandas as pd\n",
    "\n",
    "# Load data\n",
    "df = pd.read_csv(\"../data/lays_reviews.csv\")\n",
    "df.head()\n"
   ]
  },
  {
   "cell_type": "code",
   "execution_count": 24,
   "id": "ef53ea72",
   "metadata": {},
   "outputs": [
    {
     "data": {
      "text/html": [
       "<div>\n",
       "<style scoped>\n",
       "    .dataframe tbody tr th:only-of-type {\n",
       "        vertical-align: middle;\n",
       "    }\n",
       "\n",
       "    .dataframe tbody tr th {\n",
       "        vertical-align: top;\n",
       "    }\n",
       "\n",
       "    .dataframe thead th {\n",
       "        text-align: right;\n",
       "    }\n",
       "</style>\n",
       "<table border=\"1\" class=\"dataframe\">\n",
       "  <thead>\n",
       "    <tr style=\"text-align: right;\">\n",
       "      <th></th>\n",
       "      <th>Review</th>\n",
       "      <th>Polarity</th>\n",
       "      <th>Sentiment</th>\n",
       "    </tr>\n",
       "  </thead>\n",
       "  <tbody>\n",
       "    <tr>\n",
       "      <th>0</th>\n",
       "      <td>Absolutely love the Magic Masala flavor! So ad...</td>\n",
       "      <td>0.375</td>\n",
       "      <td>Positive</td>\n",
       "    </tr>\n",
       "    <tr>\n",
       "      <th>1</th>\n",
       "      <td>Too salty for my taste, but still crunchy and ...</td>\n",
       "      <td>0.300</td>\n",
       "      <td>Positive</td>\n",
       "    </tr>\n",
       "    <tr>\n",
       "      <th>2</th>\n",
       "      <td>Lay’s has nailed it again. This is my go-to sn...</td>\n",
       "      <td>0.000</td>\n",
       "      <td>Neutral</td>\n",
       "    </tr>\n",
       "    <tr>\n",
       "      <th>3</th>\n",
       "      <td>I didn’t like the aftertaste. Feels artificial.</td>\n",
       "      <td>-0.600</td>\n",
       "      <td>Negative</td>\n",
       "    </tr>\n",
       "    <tr>\n",
       "      <th>4</th>\n",
       "      <td>Perfect for movie nights. My whole family love...</td>\n",
       "      <td>0.600</td>\n",
       "      <td>Positive</td>\n",
       "    </tr>\n",
       "  </tbody>\n",
       "</table>\n",
       "</div>"
      ],
      "text/plain": [
       "                                              Review  Polarity Sentiment\n",
       "0  Absolutely love the Magic Masala flavor! So ad...     0.375  Positive\n",
       "1  Too salty for my taste, but still crunchy and ...     0.300  Positive\n",
       "2  Lay’s has nailed it again. This is my go-to sn...     0.000   Neutral\n",
       "3    I didn’t like the aftertaste. Feels artificial.    -0.600  Negative\n",
       "4  Perfect for movie nights. My whole family love...     0.600  Positive"
      ]
     },
     "execution_count": 24,
     "metadata": {},
     "output_type": "execute_result"
    }
   ],
   "source": [
    "from textblob import TextBlob\n",
    "\n",
    "# Get polarity and sentiment label\n",
    "df[\"Polarity\"] = df[\"Review\"].apply(lambda x: TextBlob(x).sentiment.polarity)\n",
    "df[\"Sentiment\"] = df[\"Polarity\"].apply(lambda x: \"Positive\" if x > 0 else (\"Negative\" if x < 0 else \"Neutral\"))\n",
    "\n",
    "# Preview\n",
    "df[[\"Review\", \"Polarity\", \"Sentiment\"]].head()\n"
   ]
  },
  {
   "cell_type": "code",
   "execution_count": 23,
   "id": "929bc799",
   "metadata": {},
   "outputs": [
    {
     "data": {
      "text/plain": [
       "Sentiment\n",
       "Positive    18\n",
       "Neutral      8\n",
       "Negative     4\n",
       "Name: count, dtype: int64"
      ]
     },
     "execution_count": 23,
     "metadata": {},
     "output_type": "execute_result"
    }
   ],
   "source": [
    "df[\"Sentiment\"].value_counts()\n"
   ]
  },
  {
   "cell_type": "code",
   "execution_count": 22,
   "id": "8ab3d63e",
   "metadata": {},
   "outputs": [
    {
     "name": "stderr",
     "output_type": "stream",
     "text": [
      "/tmp/ipykernel_8347/2998372718.py:4: FutureWarning: \n",
      "\n",
      "Passing `palette` without assigning `hue` is deprecated and will be removed in v0.14.0. Assign the `x` variable to `hue` and set `legend=False` for the same effect.\n",
      "\n",
      "  sns.countplot(data=df, x=\"Sentiment\", palette=\"Set2\")\n"
     ]
    },
    {
     "data": {
      "image/png": "[encoded data removed]",
      "text/plain": [
       "<Figure size 640x480 with 1 Axes>"
      ]
     },
     "metadata": {},
     "output_type": "display_data"
    }
   ],
   "source": [
    "import matplotlib.pyplot as plt\n",
    "import seaborn as sns\n",
    "\n",
    "sns.countplot(data=df, x=\"Sentiment\", palette=\"Set2\")\n",
    "plt.title(\"Sentiment Distribution of Lay’s Reviews\")\n",
    "plt.show()\n"
   ]
  },
  {
   "cell_type": "code",
   "execution_count": 21,
   "id": "8d30e06e",
   "metadata": {},
   "outputs": [
    {
     "data": {
      "text/plain": [
       "[('flavor', 5),\n",
       " ('fresh', 3),\n",
       " ('like', 3),\n",
       " ('always', 3),\n",
       " ('chips', 3),\n",
       " ('not', 3),\n",
       " ('pack', 3),\n",
       " ('love', 2),\n",
       " ('masala', 2),\n",
       " ('taste', 2),\n",
       " ('crunchy', 2),\n",
       " ('lay', 2),\n",
       " ('snack', 2),\n",
       " ('whole', 2),\n",
       " ('tastes', 2)]"
      ]
     },
     "execution_count": 21,
     "metadata": {},
     "output_type": "execute_result"
    }
   ],
   "source": [
    "from collections import Counter\n",
    "import re\n",
    "\n",
    "def extract_keywords(text):\n",
    "    words = re.findall(r'\\b[a-z]{3,}\\b', text.lower())  # words with ≥3 letters\n",
    "    stopwords = ['the', 'and', 'for', 'but', 'too', 'very', 'this', 'with', 'from', 'that']\n",
    "    return [word for word in words if word not in stopwords]\n",
    "\n",
    "# Flatten all keywords\n",
    "all_keywords = df[\"Review\"].apply(extract_keywords).sum()\n",
    "keyword_counts = Counter(all_keywords).most_common(15)\n",
    "keyword_counts\n"
   ]
  },
  {
   "cell_type": "code",
   "execution_count": 29,
   "id": "6e78fd54",
   "metadata": {},
   "outputs": [
    {
     "data": {
      "text/plain": [
       "ArithmeticError"
      ]
     },
     "execution_count": 29,
     "metadata": {},
     "output_type": "execute_result"
    }
   ],
   "source": [
    "ArithmeticError"
   ]
  },
  {
   "cell_type": "code",
   "execution_count": 30,
   "id": "d267b294",
   "metadata": {},
   "outputs": [
    {
     "name": "stdout",
     "output_type": "stream",
     "text": [
      "✅ Saved cleaned dataset to lays_reviews_cleaned.csv\n"
     ]
    }
   ],
   "source": [
    "df.to_csv(\"../data/lays_reviews_cleaned.csv\", index=False)\n",
    "print(\"✅ Saved cleaned dataset to lays_reviews_cleaned.csv\")\n"
   ]
  }
 ],
 "metadata": {
  "kernelspec": {
   "display_name": "Python 3",
   "language": "python",
   "name": "python3"
  },
  "language_info": {
   "codemirror_mode": {
    "name": "ipython",
    "version": 3
   },
   "file_extension": ".py",
   "mimetype": "text/x-python",
   "name": "python",
   "nbconvert_exporter": "python",
   "pygments_lexer": "ipython3",
   "version": "3.12.1"
  }
 },
 "nbformat": 4,
 "nbformat_minor": 5
}
